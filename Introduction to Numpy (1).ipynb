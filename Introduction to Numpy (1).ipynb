{
 "cells": [
  {
   "cell_type": "markdown",
   "id": "12b509d9",
   "metadata": {},
   "source": [
    "You are a teacher and you have different student records containing student id and mark list in each course where different students have opted for different course. Compute average marks for each student and display it."
   ]
  },
  {
   "cell_type": "code",
   "execution_count": 1,
   "id": "7a3577c6",
   "metadata": {},
   "outputs": [],
   "source": [
    "def getdatafromuser():    # take input as id and marks from user and store it in a dictionary\n",
    "    D={}\n",
    "    while True:\n",
    "        studentid = input(\"Enter the student id:\")\n",
    "        markslist = input(\"Enter the marks using commas:\")\n",
    "        morestudents = input('Enter \"NO\" to quit insertion')\n",
    "        if studentid in D:\n",
    "            print(studentid, \"is already inserted\")\n",
    "        else:\n",
    "            D[studentid] =markslist.split(\",\")\n",
    "        if morestudents.lower() == \"no\":\n",
    "            return D"
   ]
  },
  {
   "cell_type": "code",
   "execution_count": 2,
   "id": "7dec2afc",
   "metadata": {},
   "outputs": [
    {
     "name": "stdout",
     "output_type": "stream",
     "text": [
      "Enter the student id:1\n",
      "Enter the marks using commas:88,99,50\n",
      "Enter \"NO\" to quit insertionhjb\n",
      "Enter the student id:1\n",
      "Enter the marks using commas:88,99\n",
      "Enter \"NO\" to quit insertionmo\n",
      "1 is already inserted\n",
      "Enter the student id:2\n",
      "Enter the marks using commas:66,99,88\n",
      "Enter \"NO\" to quit insertionno\n"
     ]
    }
   ],
   "source": [
    "studentData = getdatafromuser()  #Calling the function"
   ]
  },
  {
   "cell_type": "code",
   "execution_count": 3,
   "id": "75706542",
   "metadata": {},
   "outputs": [],
   "source": [
    "def getavgmarks(D):    # find the sum of the marks and perform average\n",
    "    avgmarks = {}\n",
    "    for x in D:\n",
    "        L = D[x]\n",
    "        s=0   \n",
    "        for marks in L:\n",
    "            s+= int(marks)\n",
    "        avgmarks[x] = s/len(L)\n",
    "    return avgmarks"
   ]
  },
  {
   "cell_type": "code",
   "execution_count": 4,
   "id": "6f001c34",
   "metadata": {},
   "outputs": [],
   "source": [
    "avgm = getavgmarks(studentData)"
   ]
  },
  {
   "cell_type": "code",
   "execution_count": 5,
   "id": "b9e7fdbd",
   "metadata": {},
   "outputs": [
    {
     "name": "stdout",
     "output_type": "stream",
     "text": [
      "Student: 1 has got average marks: 79.0\n",
      "Student: 2 has got average marks: 84.33333333333333\n"
     ]
    }
   ],
   "source": [
    "for x in avgm:\n",
    "    print(\"Student:\",x,\"has got average marks:\", avgm[x])"
   ]
  },
  {
   "cell_type": "markdown",
   "id": "15fd2598",
   "metadata": {},
   "source": [
    "# Data science packages - Numpy"
   ]
  },
  {
   "cell_type": "code",
   "execution_count": 6,
   "id": "00104dcb",
   "metadata": {},
   "outputs": [],
   "source": [
    "import numpy as np"
   ]
  },
  {
   "cell_type": "code",
   "execution_count": 9,
   "id": "4b9583c1",
   "metadata": {},
   "outputs": [],
   "source": [
    "a = np.array([1,2,3,4,5])"
   ]
  },
  {
   "cell_type": "code",
   "execution_count": 10,
   "id": "23da3e5a",
   "metadata": {},
   "outputs": [
    {
     "name": "stdout",
     "output_type": "stream",
     "text": [
      "[1 2 3 4 5]\n"
     ]
    }
   ],
   "source": [
    "print(a)\n"
   ]
  },
  {
   "cell_type": "code",
   "execution_count": 11,
   "id": "3cde6ddc",
   "metadata": {},
   "outputs": [
    {
     "name": "stdout",
     "output_type": "stream",
     "text": [
      "[ 6  7  8  9 10]\n"
     ]
    }
   ],
   "source": [
    "b = np.array([6,7,8,9,10])\n",
    "print(b)"
   ]
  },
  {
   "cell_type": "markdown",
   "id": "09bfd448",
   "metadata": {},
   "source": [
    "# Properties of numpy"
   ]
  },
  {
   "cell_type": "code",
   "execution_count": 12,
   "id": "93a90a92",
   "metadata": {},
   "outputs": [
    {
     "data": {
      "text/plain": [
       "dtype('int32')"
      ]
     },
     "execution_count": 12,
     "metadata": {},
     "output_type": "execute_result"
    }
   ],
   "source": [
    "a.dtype  # display datatype"
   ]
  },
  {
   "cell_type": "code",
   "execution_count": 13,
   "id": "76b8b2c0",
   "metadata": {},
   "outputs": [
    {
     "data": {
      "text/plain": [
       "1"
      ]
     },
     "execution_count": 13,
     "metadata": {},
     "output_type": "execute_result"
    }
   ],
   "source": [
    "a.ndim  # n dimensional"
   ]
  },
  {
   "cell_type": "code",
   "execution_count": 2,
   "id": "2663d4e5",
   "metadata": {},
   "outputs": [],
   "source": [
    "c = np.array([[[1,2],[3,4]]   ,  [[5,6],[7,8]]  ,  [[9,10],[11,12]]])"
   ]
  },
  {
   "cell_type": "code",
   "execution_count": 3,
   "id": "e68b56ba",
   "metadata": {},
   "outputs": [
    {
     "data": {
      "text/plain": [
       "3"
      ]
     },
     "execution_count": 3,
     "metadata": {},
     "output_type": "execute_result"
    }
   ],
   "source": [
    "c.ndim #display number of dimensions eg: 1d, 2d, 3d..."
   ]
  },
  {
   "cell_type": "code",
   "execution_count": 16,
   "id": "4f57f90a",
   "metadata": {},
   "outputs": [
    {
     "data": {
      "text/plain": [
       "array([[[ 1,  2],\n",
       "        [ 3,  4]],\n",
       "\n",
       "       [[ 5,  6],\n",
       "        [ 7,  8]],\n",
       "\n",
       "       [[ 9, 10],\n",
       "        [11, 12]]])"
      ]
     },
     "execution_count": 16,
     "metadata": {},
     "output_type": "execute_result"
    }
   ],
   "source": [
    "c"
   ]
  },
  {
   "cell_type": "code",
   "execution_count": 20,
   "id": "229924ce",
   "metadata": {},
   "outputs": [
    {
     "data": {
      "text/plain": [
       "(3, 2, 2)"
      ]
     },
     "execution_count": 20,
     "metadata": {},
     "output_type": "execute_result"
    }
   ],
   "source": [
    "c.shape  #how many arrays and elements in the array"
   ]
  },
  {
   "cell_type": "code",
   "execution_count": 21,
   "id": "ae96f77f",
   "metadata": {},
   "outputs": [
    {
     "data": {
      "text/plain": [
       "12"
      ]
     },
     "execution_count": 21,
     "metadata": {},
     "output_type": "execute_result"
    }
   ],
   "source": [
    "c.size # total number of elements in your numpy array"
   ]
  },
  {
   "cell_type": "code",
   "execution_count": 19,
   "id": "c1e44138",
   "metadata": {},
   "outputs": [
    {
     "name": "stdout",
     "output_type": "stream",
     "text": [
      "[0 1 2 3 4]\n"
     ]
    }
   ],
   "source": [
    "A = np.arange(5)\n",
    "print(A)"
   ]
  },
  {
   "cell_type": "code",
   "execution_count": 62,
   "id": "9be917fa",
   "metadata": {},
   "outputs": [
    {
     "name": "stdout",
     "output_type": "stream",
     "text": [
      "[96 97 98 99]\n"
     ]
    }
   ],
   "source": [
    "A = np.arange(96,100)\n",
    "print(A)"
   ]
  },
  {
   "cell_type": "code",
   "execution_count": 7,
   "id": "e0a5b2ed",
   "metadata": {},
   "outputs": [
    {
     "name": "stdout",
     "output_type": "stream",
     "text": [
      "[17 21 25]\n"
     ]
    }
   ],
   "source": [
    "A = np.arange(17,27,4)\n",
    "print(A)"
   ]
  },
  {
   "cell_type": "code",
   "execution_count": 24,
   "id": "5b342a7b",
   "metadata": {},
   "outputs": [
    {
     "name": "stdout",
     "output_type": "stream",
     "text": [
      "[0 4 2 1 3]\n"
     ]
    }
   ],
   "source": [
    "A = np.random.permutation(np.arange(5))\n",
    "print(A)"
   ]
  },
  {
   "cell_type": "code",
   "execution_count": 21,
   "id": "4676c9d1",
   "metadata": {},
   "outputs": [
    {
     "data": {
      "text/plain": [
       "66"
      ]
     },
     "execution_count": 21,
     "metadata": {},
     "output_type": "execute_result"
    }
   ],
   "source": [
    "np.random.randint(45,89)"
   ]
  },
  {
   "cell_type": "code",
   "execution_count": 16,
   "id": "0843fc00",
   "metadata": {},
   "outputs": [],
   "source": [
    "np.matmul?"
   ]
  },
  {
   "cell_type": "code",
   "execution_count": 36,
   "id": "836f4cd5",
   "metadata": {},
   "outputs": [],
   "source": [
    "np.fill_diagonal?"
   ]
  },
  {
   "cell_type": "code",
   "execution_count": 37,
   "id": "5a941d50",
   "metadata": {},
   "outputs": [
    {
     "name": "stdout",
     "output_type": "stream",
     "text": [
      "Help on built-in function add_docstring in module numpy.core._multiarray_umath:\n",
      "\n",
      "add_docstring(...)\n",
      "    add_docstring(obj, docstring)\n",
      "    \n",
      "    Add a docstring to a built-in obj if possible.\n",
      "    If the obj already has a docstring raise a RuntimeError\n",
      "    If this routine does not know how to add a docstring to the object\n",
      "    raise a TypeError\n",
      "\n"
     ]
    }
   ],
   "source": [
    "help(np.add_docstring)"
   ]
  },
  {
   "cell_type": "code",
   "execution_count": 17,
   "id": "c73a6072",
   "metadata": {},
   "outputs": [
    {
     "data": {
      "text/plain": [
       "array([[4, 1],\n",
       "       [2, 2]])"
      ]
     },
     "execution_count": 17,
     "metadata": {},
     "output_type": "execute_result"
    }
   ],
   "source": [
    "a = np.array([[1, 0],              [0, 1]])\n",
    "b = np.array([[4, 1],              [2, 2]])\n",
    "np.matmul(a, b)"
   ]
  },
  {
   "cell_type": "code",
   "execution_count": null,
   "id": "2819b0bb",
   "metadata": {},
   "outputs": [],
   "source": []
  }
 ],
 "metadata": {
  "kernelspec": {
   "display_name": "Python 3 (ipykernel)",
   "language": "python",
   "name": "python3"
  },
  "language_info": {
   "codemirror_mode": {
    "name": "ipython",
    "version": 3
   },
   "file_extension": ".py",
   "mimetype": "text/x-python",
   "name": "python",
   "nbconvert_exporter": "python",
   "pygments_lexer": "ipython3",
   "version": "3.9.12"
  }
 },
 "nbformat": 4,
 "nbformat_minor": 5
}
