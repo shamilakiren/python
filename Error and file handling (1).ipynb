{
 "cells": [
  {
   "cell_type": "markdown",
   "id": "c5845cf5",
   "metadata": {},
   "source": [
    "#### File  HANDLING"
   ]
  },
  {
   "cell_type": "code",
   "execution_count": 1,
   "id": "a0f7b78e",
   "metadata": {},
   "outputs": [
    {
     "name": "stdout",
     "output_type": "stream",
     "text": [
      "Good morning\n"
     ]
    }
   ],
   "source": [
    "file_name = \"Sample.txt\"\n",
    "\n",
    "try:\n",
    "    with open(file_name, \"r\") as file:\n",
    "        content = file.read()\n",
    "        print(content)\n",
    "except FiledNotFoundError:\n",
    "    print(f\"the file '{file_name}' doest not exist.\")"
   ]
  },
  {
   "cell_type": "code",
   "execution_count": 2,
   "id": "597db79d",
   "metadata": {},
   "outputs": [
    {
     "name": "stdout",
     "output_type": "stream",
     "text": [
      "Data has been written to 'snow.txt'.\n"
     ]
    }
   ],
   "source": [
    "file_name1 = \"snow.txt\"\n",
    "\n",
    "try:\n",
    "    with open(file_name1,\"w\") as file:\n",
    "        file.write(\"Data science is interesting jgvjgcgbdsbdvbdsb\\n\")\n",
    "        file.write(\"it is a revolutionary field\\n\")\n",
    "        file.write(\"Today is a bright sunny day\\n\")\n",
    "    print(f\"Data has been written to '{file_name1}'.\")\n",
    "except IOError:\n",
    "    print(f\"an error occured while writing to '{file_name}'.\")"
   ]
  },
  {
   "cell_type": "code",
   "execution_count": 3,
   "id": "2dfd5026",
   "metadata": {},
   "outputs": [
    {
     "name": "stdout",
     "output_type": "stream",
     "text": [
      "Data has been appened to 'snow50.txt'.\n"
     ]
    }
   ],
   "source": [
    "file_name2 = \"snow50.txt\"\n",
    "\n",
    "try:\n",
    "    with open(file_name2, \"a\") as file:\n",
    "        file.write(\"There are so many jobs in this field\\n\")\n",
    "    print(f\"Data has been appened to '{file_name2}'.\")\n",
    "except IOError:\n",
    "    print(f\"An error occured while appending to '{file_name2}'\")"
   ]
  },
  {
   "cell_type": "code",
   "execution_count": 4,
   "id": "5c89bf9f",
   "metadata": {},
   "outputs": [
    {
     "name": "stdout",
     "output_type": "stream",
     "text": [
      "An error occured during file I/O.\n"
     ]
    }
   ],
   "source": [
    "input_file = \"input.txt\"\n",
    "output_file = \"output.txt\"\n",
    "\n",
    "try:\n",
    "    with open(input_file, \"r\")as input_file, open(output_file, \"w\") as output_file:\n",
    "        for line in input_file:\n",
    "            output_file.write(line.upper())\n",
    "    print(f\"Data has been processed from '{input_file}'to '{output_file}'.\")\n",
    "except IOError:\n",
    "    print(\"An error occured during file I/O.\")"
   ]
  },
  {
   "cell_type": "code",
   "execution_count": 5,
   "id": "322e5858",
   "metadata": {},
   "outputs": [],
   "source": [
    "import csv\n",
    "\n",
    "with open('student_data.csv', 'w', newline ='') as csvfile:\n",
    "    writer = csv.writer(csvfile)\n",
    "    writer.writerow(['Name','Age'])\n",
    "    writer.writerow(['Bushra', 16])"
   ]
  },
  {
   "cell_type": "code",
   "execution_count": 6,
   "id": "e45af6ee",
   "metadata": {},
   "outputs": [
    {
     "name": "stdout",
     "output_type": "stream",
     "text": [
      "['ajay@birchwoodu.org', 'ajay@gmail.com', 'joseph101@hotmail.com', 'pooja@yahoo.com']\n"
     ]
    }
   ],
   "source": [
    "import re\n",
    "\n",
    "# Find all email addresses in a text file\n",
    "with open ('employee.txt','r') as f:\n",
    "    text = f.read()\n",
    "    emails = re.findall(r'\\b[A-Za-z0-9._%+-]+@[A-Za-z0-9.-]+\\.[A-Z|a-z]{2,}\\b', text)\n",
    "    print(emails)"
   ]
  },
  {
   "cell_type": "code",
   "execution_count": 7,
   "id": "7cca47fe",
   "metadata": {},
   "outputs": [
    {
     "name": "stdout",
     "output_type": "stream",
     "text": [
      "25\n"
     ]
    }
   ],
   "source": [
    "square = lambda x: x**2\n",
    "result = square(5)\n",
    "print(result)"
   ]
  },
  {
   "cell_type": "code",
   "execution_count": 8,
   "id": "1da24936",
   "metadata": {},
   "outputs": [
    {
     "name": "stdout",
     "output_type": "stream",
     "text": [
      "<map object at 0x000001EF174AC400>\n"
     ]
    }
   ],
   "source": [
    "numbers = [1, 2, 3, 4, 5]\n",
    "squared = map(lambda x: x**2, numbers)\n",
    "print(squared)\n",
    "#when you want to apply a given function to all items in an iterable"
   ]
  },
  {
   "cell_type": "code",
   "execution_count": 9,
   "id": "a42df236",
   "metadata": {},
   "outputs": [
    {
     "name": "stdout",
     "output_type": "stream",
     "text": [
      "[1, 4, 9, 16, 25]\n"
     ]
    }
   ],
   "source": [
    "numbers = [1, 2, 3, 4, 5]\n",
    "squared = map(lambda x: x**2, numbers)\n",
    "result_list = list(squared)\n",
    "print(result_list)"
   ]
  },
  {
   "cell_type": "code",
   "execution_count": 10,
   "id": "ad4c5b5f",
   "metadata": {},
   "outputs": [
    {
     "name": "stdout",
     "output_type": "stream",
     "text": [
      "<filter object at 0x000001EF174AF520>\n"
     ]
    }
   ],
   "source": [
    "numbers = [1, 2, 3, 4, 5, 6, 7, 8, 9]\n",
    "even_numbers = filter(lambda x: x % 2 == 0, numbers)\n",
    "print(even_numbers)\n",
    "#when you want to selectively include elements from an iterable based on a condition."
   ]
  },
  {
   "cell_type": "code",
   "execution_count": 11,
   "id": "43986eea",
   "metadata": {},
   "outputs": [
    {
     "name": "stdout",
     "output_type": "stream",
     "text": [
      "[2, 4, 6, 8]\n"
     ]
    }
   ],
   "source": [
    "numbers = [1, 2, 3, 4, 5, 6, 7, 8, 9]\n",
    "even_numbers = filter(lambda x: x % 2 == 0, numbers)\n",
    "result_list = list(even_numbers)\n",
    "print(result_list)"
   ]
  },
  {
   "cell_type": "code",
   "execution_count": 12,
   "id": "98c8c063",
   "metadata": {},
   "outputs": [
    {
     "name": "stdout",
     "output_type": "stream",
     "text": [
      "[ 1  4  9 16 25]\n"
     ]
    }
   ],
   "source": [
    "import numpy as np\n",
    "\n",
    "numbers = [1, 2, 3, 4, 5]\n",
    "squared_array = np.array(list(map(lambda x: x**2, numbers)))\n",
    "print(squared_array)"
   ]
  },
  {
   "cell_type": "code",
   "execution_count": null,
   "id": "74956870",
   "metadata": {},
   "outputs": [],
   "source": []
  }
 ],
 "metadata": {
  "kernelspec": {
   "display_name": "Python 3 (ipykernel)",
   "language": "python",
   "name": "python3"
  },
  "language_info": {
   "codemirror_mode": {
    "name": "ipython",
    "version": 3
   },
   "file_extension": ".py",
   "mimetype": "text/x-python",
   "name": "python",
   "nbconvert_exporter": "python",
   "pygments_lexer": "ipython3",
   "version": "3.13.5"
  }
 },
 "nbformat": 4,
 "nbformat_minor": 5
}
