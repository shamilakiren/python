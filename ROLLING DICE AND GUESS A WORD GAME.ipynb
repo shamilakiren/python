{
 "cells": [
  {
   "cell_type": "code",
   "execution_count": 1,
   "id": "601a3d1d",
   "metadata": {},
   "outputs": [
    {
     "name": "stdout",
     "output_type": "stream",
     "text": [
      "welcome to the dice rolling game!\n",
      "please try to guess the outcome of the dice roll.\n"
     ]
    },
    {
     "name": "stdin",
     "output_type": "stream",
     "text": [
      "enter your guess (between 1 and 6): 3\n"
     ]
    },
    {
     "name": "stdout",
     "output_type": "stream",
     "text": [
      " the dice rolled: 3\n",
      "congratulation! you guessed correctly.\n"
     ]
    }
   ],
   "source": [
    "import numpy as np\n",
    "\n",
    "def roll_dice(): #this function will allow the computer to generate a random number between 1_7\n",
    "    return np.random.randint(1,7)\n",
    "\n",
    "def play_dice_rolling_game(): #function where number is enteres by user and then compared with computer's choice \n",
    "    print(\"welcome to the dice rolling game!\")\n",
    "    print(\"please try to guess the outcome of the dice roll.\")\n",
    "    \n",
    "    target_number = int(input(\"enter your guess (between 1 and 6):\"))\n",
    "    \n",
    "    if 1 <= target_number <=6:\n",
    "        dice_result = roll_dice()\n",
    "        print(f\" the dice rolled: {dice_result}\")\n",
    "        \n",
    "        if target_number == dice_result:\n",
    "            print(\"congratulation! you guessed correctly.\")\n",
    "        else:\n",
    "            print(F\"sorry, your guess was incorrect. the correct number was {dice_result}.\")\n",
    "    else:\n",
    "        print(\"invalid input. please enter a number between 1 and 6.\")\n",
    "play_dice_rolling_game()"
   ]
  },
  {
   "cell_type": "code",
   "execution_count": 2,
   "id": "a9ed9e48",
   "metadata": {},
   "outputs": [
    {
     "ename": "SyntaxError",
     "evalue": "incomplete input (3787018438.py, line 4)",
     "output_type": "error",
     "traceback": [
      "\u001b[1;36m  Cell \u001b[1;32mIn[2], line 4\u001b[1;36m\u001b[0m\n\u001b[1;33m    \u001b[0m\n\u001b[1;37m    ^\u001b[0m\n\u001b[1;31mSyntaxError\u001b[0m\u001b[1;31m:\u001b[0m incomplete input\n"
     ]
    }
   ],
   "source": [
    "import random\n",
    "\n",
    "def choose_word():\n",
    "    "
   ]
  }
 ],
 "metadata": {
  "kernelspec": {
   "display_name": "Python 3 (ipykernel)",
   "language": "python",
   "name": "python3"
  },
  "language_info": {
   "codemirror_mode": {
    "name": "ipython",
    "version": 3
   },
   "file_extension": ".py",
   "mimetype": "text/x-python",
   "name": "python",
   "nbconvert_exporter": "python",
   "pygments_lexer": "ipython3",
   "version": "3.12.4"
  }
 },
 "nbformat": 4,
 "nbformat_minor": 5
}
