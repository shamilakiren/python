{
 "cells": [
  {
   "cell_type": "code",
   "execution_count": 1,
   "id": "d74e8240",
   "metadata": {},
   "outputs": [
    {
     "name": "stdout",
     "output_type": "stream",
     "text": [
      "Variable   Type     Data/Info\n",
      "-----------------------------\n",
      "a          str      apple\n",
      "x          bool     True\n",
      "y          float    56.77\n",
      "z          int      78\n"
     ]
    }
   ],
   "source": [
    "x = True\n",
    "y = 56.77\n",
    "z = 78\n",
    "a = \"apple\"\n",
    "%whos"
   ]
  },
  {
   "cell_type": "code",
   "execution_count": 2,
   "id": "bb60ca99",
   "metadata": {},
   "outputs": [],
   "source": [
    "del y"
   ]
  },
  {
   "cell_type": "code",
   "execution_count": 3,
   "id": "34a3acf9",
   "metadata": {},
   "outputs": [
    {
     "name": "stdout",
     "output_type": "stream",
     "text": [
      "Variable   Type    Data/Info\n",
      "----------------------------\n",
      "a          str     apple\n",
      "x          bool    True\n",
      "z          int     78\n"
     ]
    }
   ],
   "source": [
    "%whos"
   ]
  },
  {
   "cell_type": "markdown",
   "id": "420cbba0",
   "metadata": {},
   "source": [
    "# Comparison operators (<,  >,  <=,  >=, ==, !=), Logical (AND, OR, NOT)\n",
    "# True AND True = True\n",
    "# True AND False = False\n",
    "# False AND False = False\n",
    "\n",
    "\n",
    "# True OR True = True\n",
    "# True OR False = True\n",
    "# False OR False = False\n",
    "\n",
    "# NOT True = False\n",
    "# NOT False = True\n"
   ]
  },
  {
   "cell_type": "code",
   "execution_count": 5,
   "id": "7afc7af6",
   "metadata": {},
   "outputs": [
    {
     "name": "stdout",
     "output_type": "stream",
     "text": [
      "False\n"
     ]
    }
   ],
   "source": [
    "a = True\n",
    "b = False\n",
    "print (a and b)"
   ]
  },
  {
   "cell_type": "code",
   "execution_count": 6,
   "id": "2c5bdbca",
   "metadata": {},
   "outputs": [
    {
     "name": "stdout",
     "output_type": "stream",
     "text": [
      "True\n"
     ]
    }
   ],
   "source": [
    "print (a and a)"
   ]
  },
  {
   "cell_type": "code",
   "execution_count": 7,
   "id": "5e4d9919",
   "metadata": {},
   "outputs": [
    {
     "name": "stdout",
     "output_type": "stream",
     "text": [
      "False\n"
     ]
    }
   ],
   "source": [
    "print(not a)"
   ]
  },
  {
   "cell_type": "code",
   "execution_count": 8,
   "id": "884427b3",
   "metadata": {},
   "outputs": [],
   "source": [
    "x = 2\n",
    "y = 5\n",
    "z = -9"
   ]
  },
  {
   "cell_type": "code",
   "execution_count": 9,
   "id": "f76bf633",
   "metadata": {},
   "outputs": [
    {
     "data": {
      "text/plain": [
       "True"
      ]
     },
     "execution_count": 9,
     "metadata": {},
     "output_type": "execute_result"
    }
   ],
   "source": [
    "(x<y) and (y>z) or (y==z)"
   ]
  },
  {
   "cell_type": "markdown",
   "id": "846d68ae",
   "metadata": {},
   "source": [
    "# if-else"
   ]
  },
  {
   "cell_type": "code",
   "execution_count": 11,
   "id": "dce9010e",
   "metadata": {},
   "outputs": [
    {
     "name": "stdin",
     "output_type": "stream",
     "text": [
      "Joycelyn, please Enter the first number : 5\n",
      "Joycelyn, please Enter the second number : 3\n"
     ]
    },
    {
     "name": "stdout",
     "output_type": "stream",
     "text": [
      "a is greater\n"
     ]
    }
   ],
   "source": [
    "a = int(input(\"Joycelyn, please Enter the first number :\")) # take first no from user and store it in a \n",
    "b = int(input(\"Joycelyn, please Enter the second number :\"))# take second no from user and store it in b\n",
    "if a>b:\n",
    "    print(\"a is greater\")\n",
    "elif a==b:\n",
    "    print('both are equal')\n",
    "else:\n",
    "    print(\"b is greater\")"
   ]
  },
  {
   "cell_type": "markdown",
   "id": "978c8f5a",
   "metadata": {},
   "source": [
    "\n",
    "# Please use student grades\n",
    "input from the user as marks and print grades\n",
    "> 85 A+\n",
    "between 70 - 84 A\n",
    "less than 70 B\n",
    "\n"
   ]
  },
  {
   "cell_type": "code",
   "execution_count": 13,
   "id": "a8b477c6",
   "metadata": {},
   "outputs": [
    {
     "name": "stdin",
     "output_type": "stream",
     "text": [
      "enter marks: 85\n"
     ]
    },
    {
     "name": "stdout",
     "output_type": "stream",
     "text": [
      "Grade A\n"
     ]
    }
   ],
   "source": [
    "# Nested if-else condition\n",
    "\n",
    "a = int(input(\"enter marks:\"))\n",
    "if a >= 85:\n",
    "    print(\"Grade A\")\n",
    "elif a<85 and a>=80:\n",
    "    print(\"Grade A-\")\n",
    "elif a<80 and a>=75:\n",
    "    print(\"Grade B\")\n",
    "elif a<75 and a>=70:\n",
    "    print(\"Grade B-\")\n",
    "else:\n",
    "    print(\"Fail\")"
   ]
  },
  {
   "cell_type": "code",
   "execution_count": 14,
   "id": "21907d0c",
   "metadata": {},
   "outputs": [
    {
     "name": "stdout",
     "output_type": "stream",
     "text": [
      "0b1010\n"
     ]
    }
   ],
   "source": [
    "christian = 10\n",
    "\n",
    "binary_equivalent = bin(christian)\n",
    "print(binary_equivalent)"
   ]
  },
  {
   "cell_type": "code",
   "execution_count": 15,
   "id": "9d5446ec",
   "metadata": {},
   "outputs": [
    {
     "name": "stdin",
     "output_type": "stream",
     "text": [
      "Please enter a number: 4\n"
     ]
    },
    {
     "name": "stdout",
     "output_type": "stream",
     "text": [
      "The number 4 is even\n"
     ]
    }
   ],
   "source": [
    "# Program to calculate if a number is even or odd\n",
    "num = int(input(\"Please enter a number:\"))\n",
    "\n",
    "if num % 2 == 0:\n",
    "    print(f\"The number {num} is even\")\n",
    "else:\n",
    "    print(f\"The number {num} is odd\")\n",
    "    "
   ]
  },
  {
   "cell_type": "markdown",
   "id": "9563623b",
   "metadata": {},
   "source": [
    "+\n",
    "-\n",
    "*\n",
    "/\n",
    "%\n",
    "//\n",
    "**\n",
    "\n",
    "and\n",
    "or\n",
    "not\n",
    "\n",
    "<\n",
    "<=\n",
    ">\n",
    ">=\n",
    "==\n",
    "!=\n",
    "\n",
    "=\n",
    "\n",
    "&\n",
    "|\n",
    "^\n",
    "\n",
    "if condition:\n",
    "    body\n",
    "\n",
    "\n",
    "if condition:\n",
    "    body\n",
    "else:\n",
    "    body\n",
    "    \n",
    "    \n",
    "if condition:\n",
    "    body\n",
    "elif:\n",
    "    body\n",
    "elif:\n",
    "    body\n",
    " .\n",
    " .\n",
    " .\n",
    " \n",
    "else:\n",
    "    body\n",
    "    "
   ]
  }
 ],
 "metadata": {
  "kernelspec": {
   "display_name": "Python 3 (ipykernel)",
   "language": "python",
   "name": "python3"
  },
  "language_info": {
   "codemirror_mode": {
    "name": "ipython",
    "version": 3
   },
   "file_extension": ".py",
   "mimetype": "text/x-python",
   "name": "python",
   "nbconvert_exporter": "python",
   "pygments_lexer": "ipython3",
   "version": "3.12.4"
  }
 },
 "nbformat": 4,
 "nbformat_minor": 5
}
