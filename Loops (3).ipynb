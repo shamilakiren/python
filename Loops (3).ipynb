{
 "cells": [
  {
   "cell_type": "markdown",
   "id": "d2b49893",
   "metadata": {},
   "source": [
    "# Loops"
   ]
  },
  {
   "cell_type": "markdown",
   "id": "0056b663",
   "metadata": {},
   "source": [
    "# 1. While loop\n",
    "Example: Waiting in traffic until light turns green"
   ]
  },
  {
   "cell_type": "code",
   "execution_count": 3,
   "id": "e91a2cc3",
   "metadata": {
    "scrolled": true
   },
   "outputs": [
    {
     "name": "stdin",
     "output_type": "stream",
     "text": [
      "enter a number: 5\n"
     ]
    },
    {
     "name": "stdout",
     "output_type": "stream",
     "text": [
      "1\n",
      "2\n",
      "3\n",
      "4\n",
      "done\n"
     ]
    }
   ],
   "source": [
    "n = int(input(\"enter a number:\"))\n",
    "i = 1     \n",
    "while i < n:   \n",
    "    print(i)    \n",
    "    i = i+1\n",
    "print(\"done\")"
   ]
  },
  {
   "cell_type": "code",
   "execution_count": 4,
   "id": "dfadc74f",
   "metadata": {},
   "outputs": [
    {
     "name": "stdin",
     "output_type": "stream",
     "text": [
      "enter a number: 6\n"
     ]
    },
    {
     "name": "stdout",
     "output_type": "stream",
     "text": [
      "0\n",
      "2\n",
      "4\n",
      "done\n"
     ]
    }
   ],
   "source": [
    "n = int(input(\"enter a number:\"))  \n",
    "i = 0\n",
    "while i < n:        \n",
    "    if i % 2 == 0:  \n",
    "        print(i)\n",
    "    else:\n",
    "        pass\n",
    "    i = i +1    \n",
    "print(\"done\")"
   ]
  },
  {
   "cell_type": "code",
   "execution_count": 5,
   "id": "8dcdc5bf-7b76-4864-b835-016acda1c544",
   "metadata": {},
   "outputs": [
    {
     "name": "stdin",
     "output_type": "stream",
     "text": [
      "enter a number: 8\n"
     ]
    },
    {
     "name": "stdout",
     "output_type": "stream",
     "text": [
      "1\n",
      "3\n",
      "5\n",
      "7\n",
      "done\n"
     ]
    }
   ],
   "source": [
    "n = int(input(\"enter a number:\"))  \n",
    "i = 0\n",
    "while i < n:        \n",
    "    if i % 2 != 0:  \n",
    "        print(i)\n",
    "    else:\n",
    "        pass\n",
    "    i = i +1    \n",
    "print(\"done\")"
   ]
  },
  {
   "cell_type": "code",
   "execution_count": 6,
   "id": "c84ef80e-7eb8-41a1-9bb7-bbffd3b82fd2",
   "metadata": {},
   "outputs": [
    {
     "name": "stdin",
     "output_type": "stream",
     "text": [
      "enter a number: 8\n"
     ]
    },
    {
     "name": "stdout",
     "output_type": "stream",
     "text": [
      "1\n",
      "3\n",
      "5\n",
      "7\n",
      "done\n"
     ]
    }
   ],
   "source": [
    "n = int(input(\"enter a number:\"))  \n",
    "i = 0\n",
    "while i < n:        \n",
    "    if i % 2 == 1:  \n",
    "        print(i)\n",
    "    else:\n",
    "        pass\n",
    "    i = i +1    \n",
    "print(\"done\")"
   ]
  },
  {
   "cell_type": "code",
   "execution_count": 7,
   "id": "b9346087-b151-4810-a1e4-ab484432ff0c",
   "metadata": {},
   "outputs": [
    {
     "name": "stdin",
     "output_type": "stream",
     "text": [
      "enter a number: 6\n"
     ]
    },
    {
     "name": "stdout",
     "output_type": "stream",
     "text": [
      "1\n",
      "3\n",
      "5\n",
      "done\n"
     ]
    }
   ],
   "source": [
    "n = int(input(\"enter a number:\"))  \n",
    "i = 1\n",
    "while i < n:        \n",
    "    if i % 2 == 1:  \n",
    "        print(i)\n",
    "    else:\n",
    "        pass\n",
    "    i = i +1    \n",
    "print(\"done\")"
   ]
  },
  {
   "cell_type": "markdown",
   "id": "f347f6f2",
   "metadata": {},
   "source": [
    "# 2. for loop (counter loop or iterator)\n",
    "1. Shopping @ supermarket\n",
    "2. Cooking food"
   ]
  },
  {
   "cell_type": "code",
   "execution_count": 9,
   "id": "089f0110",
   "metadata": {},
   "outputs": [
    {
     "name": "stdout",
     "output_type": "stream",
     "text": [
      "apple\n",
      "strawberry\n",
      "plum\n",
      "banana\n",
      "cherry\n"
     ]
    }
   ],
   "source": [
    "fruits = [\"apple\", \"strawberry\", \"plum\", \"banana\", \"cherry\"]\n",
    "for y in fruits:\n",
    "  print(y)"
   ]
  },
  {
   "cell_type": "code",
   "execution_count": 10,
   "id": "de780089",
   "metadata": {},
   "outputs": [
    {
     "name": "stdout",
     "output_type": "stream",
     "text": [
      "apple\n",
      "strawberry\n",
      "plum\n",
      "banana\n"
     ]
    }
   ],
   "source": [
    "fruits = [\"apple\", \"strawberry\", \"plum\", \"banana\", \"cherry\", \"dates\", \"blueberry\"]\n",
    "for x in fruits:\n",
    "  print(x)\n",
    "  if x == \"banana\":\n",
    "    break      #stop the loop before it has looped through all the items"
   ]
  },
  {
   "cell_type": "code",
   "execution_count": 11,
   "id": "bbe38aed",
   "metadata": {},
   "outputs": [
    {
     "name": "stdout",
     "output_type": "stream",
     "text": [
      "apple\n",
      "strawberry\n",
      "plum\n",
      "cherry\n",
      "dates\n",
      "blueberry\n"
     ]
    }
   ],
   "source": [
    "fruits = [\"apple\", \"strawberry\", \"plum\", \"banana\", \"cherry\", \"dates\", \"blueberry\"]\n",
    "for x in fruits:\n",
    "  if x == \"banana\":\n",
    "    continue   #stop the current iteration of the loop, and continue with the next\n",
    "  print(x)"
   ]
  },
  {
   "cell_type": "markdown",
   "id": "cf19cf90",
   "metadata": {},
   "source": [
    "# Program to print numbers for a given range and add its power to a list"
   ]
  },
  {
   "cell_type": "code",
   "execution_count": 13,
   "id": "3e0305cc",
   "metadata": {},
   "outputs": [
    {
     "name": "stdout",
     "output_type": "stream",
     "text": [
      "1\n",
      "2\n",
      "3\n",
      "4\n",
      "5\n",
      "6\n",
      "7\n",
      "8\n",
      "9\n",
      "10\n",
      "11\n",
      "12\n",
      "13\n",
      "14\n",
      "15\n",
      "[0, 1, 4, 9, 16, 25, 36, 49, 64, 81, 100, 121, 144, 169, 196]\n"
     ]
    }
   ],
   "source": [
    "L = []        \n",
    "\n",
    "for i in range(15): #starts with 0 and increments by 1\n",
    "    \n",
    "    print(i+1)   \n",
    "    \n",
    "    L.append(i**2)   \n",
    "    \n",
    "print(L)"
   ]
  },
  {
   "cell_type": "code",
   "execution_count": 14,
   "id": "8f91ebbb",
   "metadata": {},
   "outputs": [
    {
     "name": "stdout",
     "output_type": "stream",
     "text": [
      "0\n",
      "1\n",
      "2\n",
      "3\n",
      "4\n",
      "5\n",
      "6\n",
      "7\n",
      "8\n",
      "9\n",
      "10\n",
      "11\n",
      "12\n",
      "13\n",
      "14\n"
     ]
    }
   ],
   "source": [
    "#Stop condition\n",
    "\n",
    "for i in range(15):\n",
    "    print(i)"
   ]
  },
  {
   "cell_type": "code",
   "execution_count": 15,
   "id": "4dbb3140-bdc1-4233-984e-02cf17f9c272",
   "metadata": {},
   "outputs": [
    {
     "name": "stdout",
     "output_type": "stream",
     "text": [
      "1\n",
      "2\n",
      "3\n",
      "4\n",
      "5\n",
      "6\n",
      "7\n",
      "8\n",
      "9\n",
      "10\n",
      "11\n",
      "12\n",
      "13\n",
      "14\n"
     ]
    }
   ],
   "source": [
    "#range(start, stop)\n",
    "\n",
    "for i in range(1, 15):\n",
    "    print(i)"
   ]
  },
  {
   "cell_type": "code",
   "execution_count": 16,
   "id": "139f560c",
   "metadata": {},
   "outputs": [
    {
     "name": "stdout",
     "output_type": "stream",
     "text": [
      "7\n",
      "8\n",
      "9\n",
      "10\n",
      "11\n",
      "12\n",
      "13\n",
      "14\n"
     ]
    }
   ],
   "source": [
    "#range(start, stop)\n",
    "\n",
    "for i in range(7, 15):\n",
    "    print(i)"
   ]
  },
  {
   "cell_type": "code",
   "execution_count": 17,
   "id": "dbd7b22d",
   "metadata": {},
   "outputs": [
    {
     "name": "stdout",
     "output_type": "stream",
     "text": [
      "1\n",
      "3\n",
      "5\n",
      "7\n",
      "9\n",
      "11\n",
      "13\n"
     ]
    }
   ],
   "source": [
    "#range(start, stop, step size)\n",
    "for i in range(1, 15, 2):\n",
    "    print(i)"
   ]
  },
  {
   "cell_type": "code",
   "execution_count": 18,
   "id": "82a45c0c-a66c-4c79-895f-66094851c41b",
   "metadata": {},
   "outputs": [
    {
     "name": "stdout",
     "output_type": "stream",
     "text": [
      "10\n",
      "9\n",
      "8\n",
      "7\n",
      "6\n",
      "5\n",
      "4\n",
      "3\n",
      "2\n",
      "1\n"
     ]
    }
   ],
   "source": [
    "# decrement(going backward)\n",
    "for i in range(10, 0, -1):\n",
    "    print(i)"
   ]
  },
  {
   "cell_type": "code",
   "execution_count": 19,
   "id": "9d47160a-e719-46d4-9596-09a499e060b0",
   "metadata": {},
   "outputs": [
    {
     "name": "stdout",
     "output_type": "stream",
     "text": [
      "25\n",
      "24\n",
      "23\n",
      "22\n",
      "21\n",
      "20\n",
      "19\n",
      "18\n",
      "17\n"
     ]
    }
   ],
   "source": [
    "#Decrement (going backwards)\n",
    "\n",
    "for i in range(25, 16, -1):\n",
    "    print(i)"
   ]
  },
  {
   "cell_type": "code",
   "execution_count": 20,
   "id": "4da32dae",
   "metadata": {},
   "outputs": [
    {
     "name": "stdout",
     "output_type": "stream",
     "text": [
      "25\n",
      "22\n",
      "19\n"
     ]
    }
   ],
   "source": [
    "#Decrement (going backwards)\n",
    "\n",
    "for i in range(25, 16, -3):\n",
    "    print(i)"
   ]
  },
  {
   "cell_type": "code",
   "execution_count": 21,
   "id": "26527b52",
   "metadata": {},
   "outputs": [
    {
     "name": "stdout",
     "output_type": "stream",
     "text": [
      "Multiplication table\n",
      "20 x 1 = 20\n",
      "20 x 2 = 40\n",
      "20 x 3 = 60\n",
      "20 x 4 = 80\n",
      "20 x 5 = 100\n",
      "20 x 6 = 120\n",
      "20 x 7 = 140\n",
      "20 x 8 = 160\n",
      "20 x 9 = 180\n",
      "20 x 10 = 200\n"
     ]
    }
   ],
   "source": [
    "num = 20\n",
    "print(\"Multiplication table\")\n",
    "for i in range(1,11):\n",
    "    result = num*i\n",
    "    print(f\"{num} x {i} = {result}\")"
   ]
  },
  {
   "cell_type": "code",
   "execution_count": 40,
   "id": "78563029",
   "metadata": {},
   "outputs": [
    {
     "name": "stdout",
     "output_type": "stream",
     "text": [
      "Multiplication table\n",
      "7\n",
      "14\n",
      "21\n",
      "28\n",
      "35\n",
      "42\n",
      "49\n",
      "56\n",
      "63\n",
      "70\n"
     ]
    }
   ],
   "source": [
    "num = 7\n",
    "print(\"Multiplication table\")\n",
    "for i in range(1,11):\n",
    "    result = num*i\n",
    "    print(result)"
   ]
  },
  {
   "cell_type": "code",
   "execution_count": 42,
   "id": "b523208e-76c5-416c-9e63-9063e8c1bb72",
   "metadata": {},
   "outputs": [
    {
     "name": "stdout",
     "output_type": "stream",
     "text": [
      "Multiplication table\n",
      "7 x 1 = 7\n",
      "7 x 2 = 14\n",
      "7 x 3 = 21\n",
      "7 x 4 = 28\n",
      "7 x 5 = 35\n",
      "7 x 6 = 42\n",
      "7 x 7 = 49\n",
      "7 x 8 = 56\n",
      "7 x 9 = 63\n",
      "7 x 10 = 70\n"
     ]
    }
   ],
   "source": [
    "num = 7\n",
    "print(\"Multiplication table\")\n",
    "for i in range(1,11):\n",
    "    result = num*i\n",
    "    print(f\"{num} x {i} = {result}\")"
   ]
  },
  {
   "cell_type": "code",
   "execution_count": 44,
   "id": "260e976e-88d0-4c95-84bb-582edb261ffb",
   "metadata": {},
   "outputs": [
    {
     "name": "stdin",
     "output_type": "stream",
     "text": [
      "enter a number 6\n"
     ]
    },
    {
     "name": "stdout",
     "output_type": "stream",
     "text": [
      "Multiplication table\n",
      "6 x 1 = 6\n",
      "6 x 2 = 12\n",
      "6 x 3 = 18\n",
      "6 x 4 = 24\n",
      "6 x 5 = 30\n",
      "6 x 6 = 36\n",
      "6 x 7 = 42\n",
      "6 x 8 = 48\n",
      "6 x 9 = 54\n",
      "6 x 10 = 60\n"
     ]
    }
   ],
   "source": [
    "num = int(input(\"enter a number\"))\n",
    "print(\"Multiplication table\")\n",
    "for i in range(1,11):\n",
    "    result = num*i\n",
    "    print(f\"{num} x {i} = {result}\")"
   ]
  },
  {
   "cell_type": "code",
   "execution_count": null,
   "id": "787d395f-586b-4568-a3b7-4867052cf32a",
   "metadata": {},
   "outputs": [],
   "source": []
  }
 ],
 "metadata": {
  "kernelspec": {
   "display_name": "Python 3 (ipykernel)",
   "language": "python",
   "name": "python3"
  },
  "language_info": {
   "codemirror_mode": {
    "name": "ipython",
    "version": 3
   },
   "file_extension": ".py",
   "mimetype": "text/x-python",
   "name": "python",
   "nbconvert_exporter": "python",
   "pygments_lexer": "ipython3",
   "version": "3.12.4"
  }
 },
 "nbformat": 4,
 "nbformat_minor": 5
}
