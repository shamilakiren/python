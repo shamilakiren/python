{
 "cells": [
  {
   "cell_type": "markdown",
   "id": "a20082b1",
   "metadata": {},
   "source": [
    "# Even or odd number variation"
   ]
  },
  {
   "cell_type": "code",
   "execution_count": 2,
   "id": "a519b9b4",
   "metadata": {},
   "outputs": [
    {
     "name": "stdin",
     "output_type": "stream",
     "text": [
      "Enter an integer:  8\n"
     ]
    },
    {
     "name": "stdout",
     "output_type": "stream",
     "text": [
      "8 is an even number.\n"
     ]
    }
   ],
   "source": [
    "def is_even(number):\n",
    "    return number % 2 == 0\n",
    "\n",
    "user_input = int(input(\"Enter an integer: \"))\n",
    "if is_even(user_input):\n",
    "    print(user_input, \"is an even number.\")\n",
    "else:\n",
    "    print(user_input, \"is an odd number.\")\n"
   ]
  },
  {
   "cell_type": "code",
   "execution_count": 3,
   "id": "3e2b8e4d-768c-4e67-9708-dcd0313b812a",
   "metadata": {},
   "outputs": [
    {
     "name": "stdin",
     "output_type": "stream",
     "text": [
      "Enter an integer:  7\n"
     ]
    },
    {
     "name": "stdout",
     "output_type": "stream",
     "text": [
      "7 is an odd number.\n"
     ]
    }
   ],
   "source": [
    "def is_even(number):\n",
    "    return number % 2 == 0\n",
    "\n",
    "user_input = int(input(\"Enter an integer: \"))\n",
    "if is_even(user_input):\n",
    "    print(user_input, \"is an even number.\")\n",
    "else:\n",
    "    print(user_input, \"is an odd number.\")\n"
   ]
  },
  {
   "cell_type": "markdown",
   "id": "bf80c750",
   "metadata": {},
   "source": [
    "# Reverse a string "
   ]
  },
  {
   "cell_type": "code",
   "execution_count": 5,
   "id": "3ef26536",
   "metadata": {},
   "outputs": [
    {
     "name": "stdin",
     "output_type": "stream",
     "text": [
      "Enter a string:  joy\n"
     ]
    },
    {
     "name": "stdout",
     "output_type": "stream",
     "text": [
      "Reversed string: yoj\n"
     ]
    }
   ],
   "source": [
    "def reverse_string(s):\n",
    "    reversed_str = \"\"\n",
    "    for char in s:\n",
    "        reversed_str = char + reversed_str\n",
    "    return reversed_str\n",
    "\n",
    "user_input = input(\"Enter a string: \")\n",
    "reversed_string = reverse_string(user_input)\n",
    "print(\"Reversed string:\", reversed_string)\n"
   ]
  },
  {
   "cell_type": "markdown",
   "id": "a848348f",
   "metadata": {},
   "source": [
    " reversed_str = \"\"\n",
    " \" \" + J = J\n",
    "  reversed_str = J\n",
    "  O + j = OJ\n",
    "   reversed_str = OJ\n",
    "   Y + OJ = YOJ\n",
    "    reversed_str = YOJ\n",
    "    "
   ]
  },
  {
   "cell_type": "markdown",
   "id": "65f580f0",
   "metadata": {},
   "source": [
    "MULTIPLICATION TABLE"
   ]
  },
  {
   "cell_type": "code",
   "execution_count": 8,
   "id": "7ba83cfa-1ada-46a9-a1c4-21efa3d5739c",
   "metadata": {},
   "outputs": [
    {
     "name": "stdin",
     "output_type": "stream",
     "text": [
      "Enter a number for multiplication table:  5\n",
      "Enter the range limit:  10\n"
     ]
    },
    {
     "name": "stdout",
     "output_type": "stream",
     "text": [
      "5 * 1 = 5\n",
      "5 * 2 = 10\n",
      "5 * 3 = 15\n",
      "5 * 4 = 20\n",
      "5 * 5 = 25\n",
      "5 * 6 = 30\n",
      "5 * 7 = 35\n",
      "5 * 8 = 40\n",
      "5 * 9 = 45\n",
      "5 * 10 = 50\n"
     ]
    }
   ],
   "source": [
    "def generate_multiplication_table(number, range_limit):\n",
    "    for i in range(1, range_limit+1):\n",
    "        result = number * i  #performing multiplication\n",
    "        print(f\"{number} * {i} = {result}\") #tells Python to treat the string as an f-string and evaluate the expressions inside the curly braces to their corresponding values.\n",
    "\n",
    "user_number = int(input(\"Enter a number for multiplication table: \"))\n",
    "user_range = int(input(\"Enter the range limit: \"))\n",
    "generate_multiplication_table(user_number, user_range)"
   ]
  },
  {
   "cell_type": "code",
   "execution_count": 9,
   "id": "cc22dd2c-5c79-4780-91df-3caf870f8f73",
   "metadata": {},
   "outputs": [
    {
     "name": "stdin",
     "output_type": "stream",
     "text": [
      "Enter a number for plus table:  8\n",
      "Enter the range limit:  10\n"
     ]
    },
    {
     "name": "stdout",
     "output_type": "stream",
     "text": [
      "8 + 1 = 9\n",
      "8 + 2 = 10\n",
      "8 + 3 = 11\n",
      "8 + 4 = 12\n",
      "8 + 5 = 13\n",
      "8 + 6 = 14\n",
      "8 + 7 = 15\n",
      "8 + 8 = 16\n",
      "8 + 9 = 17\n",
      "8 + 10 = 18\n"
     ]
    }
   ],
   "source": [
    "def generate_plus(number, range_limit):\n",
    "    for i in range(1, range_limit+1):\n",
    "        result = number + i  #performing plus\n",
    "        print(f\"{number} + {i} = {result}\") #tells Python to treat the string as an f-string and evaluate the expressions inside the curly braces to their corresponding values.\n",
    "\n",
    "user_number = int(input(\"Enter a number for plus: \"))\n",
    "user_range = int(input(\"Enter the range limit: \"))\n",
    "generate_plus(user_number, user_range)"
   ]
  },
  {
   "cell_type": "code",
   "execution_count": 10,
   "id": "2a3e8b7f-cba0-46b3-97ea-aa1ee568e5d5",
   "metadata": {},
   "outputs": [
    {
     "name": "stdin",
     "output_type": "stream",
     "text": [
      "Enter a number for subtraction table:  90\n",
      "Enter the range limit:  11\n"
     ]
    },
    {
     "name": "stdout",
     "output_type": "stream",
     "text": [
      "90 - 1 = 89\n",
      "90 - 2 = 88\n",
      "90 - 3 = 87\n",
      "90 - 4 = 86\n",
      "90 - 5 = 85\n",
      "90 - 6 = 84\n",
      "90 - 7 = 83\n",
      "90 - 8 = 82\n",
      "90 - 9 = 81\n",
      "90 - 10 = 80\n",
      "90 - 11 = 79\n"
     ]
    }
   ],
   "source": [
    "def generate_subtraction(number, range_limit):\n",
    "    for i in range(1, range_limit+1):\n",
    "        result = number - i  #performing subtraction\n",
    "        print(f\"{number} - {i} = {result}\") #tells Python to treat the string as an f-string and evaluate the expressions inside the curly braces to their corresponding values.\n",
    "\n",
    "user_number = int(input(\"Enter a number for subtraction: \"))\n",
    "user_range = int(input(\"Enter the range limit: \"))\n",
    "generate_subtraction(user_number, user_range)"
   ]
  },
  {
   "cell_type": "code",
   "execution_count": 11,
   "id": "9cc513da-fac3-48b4-a46e-33c1db5c0338",
   "metadata": {},
   "outputs": [
    {
     "name": "stdin",
     "output_type": "stream",
     "text": [
      "Enter a number for division table:  50\n",
      "Enter the range limit:  5\n"
     ]
    },
    {
     "name": "stdout",
     "output_type": "stream",
     "text": [
      "50 / 1 = 50.0\n",
      "50 / 2 = 25.0\n",
      "50 / 3 = 16.666666666666668\n",
      "50 / 4 = 12.5\n",
      "50 / 5 = 10.0\n"
     ]
    }
   ],
   "source": [
    "def generate_division(number, range_limit):\n",
    "    for i in range(1, range_limit+1):\n",
    "        result = number / i  #performing division\n",
    "        print(f\"{number} / {i} = {result}\") #tells Python to treat the string as an f-string and evaluate the expressions inside the curly braces to their corresponding values.\n",
    "\n",
    "user_number = int(input(\"Enter a number for division: \"))\n",
    "user_range = int(input(\"Enter the range limit: \"))\n",
    "generate_division(user_number, user_range)"
   ]
  },
  {
   "cell_type": "markdown",
   "id": "05e4b4f1",
   "metadata": {},
   "source": [
    "# Rock paper scissor game"
   ]
  },
  {
   "cell_type": "code",
   "execution_count": 1,
   "id": "f318bc7e",
   "metadata": {},
   "outputs": [
    {
     "name": "stdin",
     "output_type": "stream",
     "text": [
      "Enter your choice (rock, paper, or scissors):  rock\n"
     ]
    },
    {
     "name": "stdout",
     "output_type": "stream",
     "text": [
      "Computer chose: scissors\n",
      "You win!\n"
     ]
    }
   ],
   "source": [
    "import random  #importing random package\n",
    "\n",
    "\n",
    "def determine_winner(user_choice, computer_choice): #compare return who is the winner\n",
    "    if user_choice == computer_choice:\n",
    "        return \"It's a tie!\"\n",
    "    elif (user_choice == \"rock\" and computer_choice == \"scissors\") or \\\n",
    "         (user_choice == \"paper\" and computer_choice == \"rock\") or \\\n",
    "         (user_choice == \"scissors\" and computer_choice == \"paper\"):\n",
    "        return \"You win!\"\n",
    "    else:\n",
    "        return \"Computer wins!\"\n",
    "    \n",
    "    \n",
    "\n",
    "def computer_choice():  #computer generates\n",
    "    choices = [\"rock\", \"paper\", \"scissors\"]\n",
    "    return random.choice(choices)\n",
    "\n",
    "\n",
    "\n",
    "user_choice = input(\"Enter your choice (rock, paper, or scissors): \").lower()  #input from user\n",
    "if user_choice in [\"rock\", \"paper\", \"scissors\"]:\n",
    "    comp_choice = computer_choice()\n",
    "    print(\"Computer chose:\", comp_choice)\n",
    "    print(determine_winner(user_choice, comp_choice))\n",
    "else:\n",
    "    print(\"Enter a valid option\")\n"
   ]
  },
  {
   "cell_type": "code",
   "execution_count": null,
   "id": "5a79752c",
   "metadata": {},
   "outputs": [],
   "source": [
    "numbers = [\"J\",\"O\", \"Y\"]\n",
    "rev_output = numbers[::-1]"
   ]
  },
  {
   "cell_type": "code",
   "execution_count": null,
   "id": "24c41d0a",
   "metadata": {},
   "outputs": [],
   "source": [
    "print(rev_output)"
   ]
  },
  {
   "cell_type": "code",
   "execution_count": null,
   "id": "b167e13d",
   "metadata": {},
   "outputs": [],
   "source": []
  }
 ],
 "metadata": {
  "kernelspec": {
   "display_name": "Python 3 (ipykernel)",
   "language": "python",
   "name": "python3"
  },
  "language_info": {
   "codemirror_mode": {
    "name": "ipython",
    "version": 3
   },
   "file_extension": ".py",
   "mimetype": "text/x-python",
   "name": "python",
   "nbconvert_exporter": "python",
   "pygments_lexer": "ipython3",
   "version": "3.12.4"
  }
 },
 "nbformat": 4,
 "nbformat_minor": 5
}
